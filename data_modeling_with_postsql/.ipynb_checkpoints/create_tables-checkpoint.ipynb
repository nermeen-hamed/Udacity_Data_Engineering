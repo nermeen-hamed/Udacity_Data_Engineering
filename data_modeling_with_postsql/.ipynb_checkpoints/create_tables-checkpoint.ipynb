{
 "cells": [
  {
   "cell_type": "code",
   "execution_count": 1,
   "id": "d88aaa96",
   "metadata": {
    "ExecuteTime": {
     "end_time": "2022-10-12T15:58:07.855585Z",
     "start_time": "2022-10-12T15:58:07.811091Z"
    }
   },
   "outputs": [],
   "source": [
    "import psycopg2\n",
    "from sql_queries import create_table_queries,drop_table_queries "
   ]
  },
  {
   "cell_type": "code",
   "execution_count": 2,
   "id": "66d54b0c",
   "metadata": {
    "ExecuteTime": {
     "end_time": "2022-10-12T15:58:07.873332Z",
     "start_time": "2022-10-12T15:58:07.860266Z"
    }
   },
   "outputs": [],
   "source": [
    "def create_database():\n",
    "    \"\"\"\n",
    "    - Creates and connects to the sparkifydb\n",
    "    - Returns the connection and cursor to sparkifydb\n",
    "    \"\"\"   \n",
    "    # connect to sparkify database\n",
    "    conn = psycopg2.connect(\"host=127.0.0.1 dbname=sparkifydb user=postgres password=postgres\")\n",
    "    cur = conn.cursor()\n",
    "    \n",
    "    return cur, conn"
   ]
  },
  {
   "cell_type": "code",
   "execution_count": null,
   "id": "1698e754",
   "metadata": {
    "ExecuteTime": {
     "end_time": "2022-10-12T15:30:40.754409Z",
     "start_time": "2022-10-12T15:30:40.723524Z"
    }
   },
   "outputs": [],
   "source": []
  },
  {
   "cell_type": "code",
   "execution_count": 3,
   "id": "244e56a3",
   "metadata": {
    "ExecuteTime": {
     "end_time": "2022-10-12T15:58:07.899389Z",
     "start_time": "2022-10-12T15:58:07.878468Z"
    }
   },
   "outputs": [],
   "source": [
    "def drop_tables(cur, conn):\n",
    "    \"\"\"\n",
    "    Drops each table using the queries in `drop_table_queries` list.\n",
    "    \"\"\"\n",
    "    for query in drop_table_queries:\n",
    "        cur.execute(query)\n",
    "        conn.commit()"
   ]
  },
  {
   "cell_type": "code",
   "execution_count": 4,
   "id": "a3be37b3",
   "metadata": {
    "ExecuteTime": {
     "end_time": "2022-10-12T15:58:07.915299Z",
     "start_time": "2022-10-12T15:58:07.905281Z"
    }
   },
   "outputs": [],
   "source": [
    "def create_tables(cur, conn):\n",
    "    \"\"\"\n",
    "    Creates each table using the queries in `create_table_queries` list. \n",
    "    \"\"\"\n",
    "    for query in create_table_queries:\n",
    "        cur.execute(query)\n",
    "        conn.commit()"
   ]
  },
  {
   "cell_type": "code",
   "execution_count": 5,
   "id": "5e21a857",
   "metadata": {
    "ExecuteTime": {
     "end_time": "2022-10-12T15:58:07.931026Z",
     "start_time": "2022-10-12T15:58:07.916302Z"
    }
   },
   "outputs": [],
   "source": [
    "def main():\n",
    "    \"\"\"\n",
    "    - Drops (if exists) and Creates the sparkify database. \n",
    "    \n",
    "    - Establishes connection with the sparkify database and gets\n",
    "    cursor to it.  \n",
    "    \n",
    "    - Drops all the tables.  \n",
    "    \n",
    "    - Creates all tables needed. \n",
    "    \n",
    "    - Finally, closes the connection. \n",
    "    \"\"\"\n",
    "    cur, conn = create_database()\n",
    "    \n",
    "    drop_tables(cur, conn)\n",
    "    create_tables(cur, conn)\n",
    "    conn.close()"
   ]
  },
  {
   "cell_type": "code",
   "execution_count": 6,
   "id": "b976d590",
   "metadata": {
    "ExecuteTime": {
     "end_time": "2022-10-12T15:58:08.288274Z",
     "start_time": "2022-10-12T15:58:07.934679Z"
    }
   },
   "outputs": [],
   "source": [
    "main()"
   ]
  },
  {
   "cell_type": "code",
   "execution_count": null,
   "id": "cb18392e",
   "metadata": {},
   "outputs": [],
   "source": []
  }
 ],
 "metadata": {
  "kernelspec": {
   "display_name": "Python 3 (ipykernel)",
   "language": "python",
   "name": "python3"
  },
  "language_info": {
   "codemirror_mode": {
    "name": "ipython",
    "version": 3
   },
   "file_extension": ".py",
   "mimetype": "text/x-python",
   "name": "python",
   "nbconvert_exporter": "python",
   "pygments_lexer": "ipython3",
   "version": "3.9.7"
  }
 },
 "nbformat": 4,
 "nbformat_minor": 5
}
